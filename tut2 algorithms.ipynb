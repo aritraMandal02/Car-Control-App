{
  "nbformat": 4,
  "nbformat_minor": 0,
  "metadata": {
    "colab": {
      "name": "tut1.ipynb",
      "provenance": [],
      "authorship_tag": "ABX9TyPu20eTp/WsX2/ovJXtUIuw",
      "include_colab_link": true
    },
    "kernelspec": {
      "name": "python3",
      "display_name": "Python 3"
    },
    "language_info": {
      "name": "python"
    }
  },
  "cells": [
    {
      "cell_type": "markdown",
      "metadata": {
        "id": "view-in-github",
        "colab_type": "text"
      },
      "source": [
        "<a href=\"https://colab.research.google.com/github/aritraMandal02/Car-Control-App/blob/main/tut2%20algorithms.ipynb\" target=\"_parent\"><img src=\"https://colab.research.google.com/assets/colab-badge.svg\" alt=\"Open In Colab\"/></a>"
      ]
    },
    {
      "cell_type": "code",
      "execution_count": null,
      "metadata": {
        "id": "-a2LyXuRJbzg"
      },
      "outputs": [],
      "source": [
        "!pip install tensorflow==2.4\n",
        "import tensorflow as tf\n",
        "print(tf.version)"
      ]
    },
    {
      "cell_type": "code",
      "source": [
        "t = tf.ones([5,5])\n",
        "print(t)"
      ],
      "metadata": {
        "id": "ypRjY30jKOcs",
        "colab": {
          "base_uri": "https://localhost:8080/"
        },
        "outputId": "1e5fbdc7-a2a8-48b5-f46a-5cfde2aec38f"
      },
      "execution_count": 4,
      "outputs": [
        {
          "output_type": "stream",
          "name": "stdout",
          "text": [
            "tf.Tensor(\n",
            "[[1. 1. 1. 1. 1.]\n",
            " [1. 1. 1. 1. 1.]\n",
            " [1. 1. 1. 1. 1.]\n",
            " [1. 1. 1. 1. 1.]\n",
            " [1. 1. 1. 1. 1.]], shape=(5, 5), dtype=float32)\n"
          ]
        }
      ]
    }
  ]
}